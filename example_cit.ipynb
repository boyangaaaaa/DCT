{
 "cells": [
  {
   "cell_type": "code",
   "execution_count": null,
   "metadata": {},
   "outputs": [],
   "source": [
    "from causal_learn.causallearn.utils.cit import CIT\n",
    "import numpy as np\n",
    "\n",
    "def _binary_all(X_true):\n",
    "    X = X_true.copy()\n",
    "    for i in range(X.shape[1]):\n",
    "        x_tmp = X[:,i]\n",
    "        var = np.var(x_tmp)\n",
    "        c = np.median(x_tmp)\n",
    "        print(f\"Random variable: {i}, threshold: {c}\")\n",
    "        x_tmp = np.where(x_tmp > c, 1, 0)\n",
    "        X[:,i] = x_tmp\n",
    "    return X"
   ]
  },
  {
   "cell_type": "code",
   "execution_count": null,
   "metadata": {},
   "outputs": [
    {
     "name": "stdout",
     "output_type": "stream",
     "text": [
      "Random variable: 0, threshold: 4.987149264691457\n",
      "Random variable: 1, threshold: 8.02685828770547\n",
      "Random variable: 2, threshold: 4.9970155100331475\n",
      "Variance: [2.68566704]\n",
      "Z-score: [1.11068491]\n",
      "P-value: [0.266704]\n"
     ]
    },
    {
     "data": {
      "text/plain": [
       "array([0.266704])"
      ]
     },
     "execution_count": 8,
     "metadata": {},
     "output_type": "execute_result"
    }
   ],
   "source": [
    "\"\"\"\n",
    "Here is an example of how to use DCT with one step\n",
    "\"\"\"\n",
    "test = 'dis_test'\n",
    "\n",
    "samples = 1000\n",
    "x1 = np.random.normal(5,1,samples)\n",
    "x2 = np.random.normal(-2,1,samples) + 2*x1\n",
    "x3 = x1 + np.random.normal(0,1, samples)\n",
    "\n",
    "X_true = np.array([x1, x2, x3]).T\n",
    "data_bin = _binary_all(X_true)\n",
    "\n",
    "dist_test_obj = CIT(data=data_bin, method=test)\n",
    "p_value = dist_test_obj(1,2,[0])\n",
    "p_value"
   ]
  },
  {
   "cell_type": "code",
   "execution_count": null,
   "metadata": {},
   "outputs": [
    {
     "name": "stdout",
     "output_type": "stream",
     "text": [
      "Random variable: 0, threshold: 5.033235677514188\n",
      "Random variable: 1, threshold: 8.116467489503759\n",
      "Random variable: 2, threshold: 5.0356194371960346\n",
      "Variance: [2.82225945]\n",
      "P-value: [0.95057661]\n"
     ]
    },
    {
     "data": {
      "text/plain": [
       "array([0.95057661])"
      ]
     },
     "execution_count": 9,
     "metadata": {},
     "output_type": "execute_result"
    }
   ],
   "source": [
    "\"\"\"\n",
    "Here is an example of how to use DCT-GMM with one step\n",
    "\"\"\"\n",
    "test = 'dct_gmm'\n",
    "\n",
    "samples = 1000\n",
    "x1 = np.random.normal(5,1,samples)\n",
    "x2 = np.random.normal(-2,1,samples) + 2*x1\n",
    "x3 = x1 + np.random.normal(0,1, samples)\n",
    "\n",
    "X_true = np.array([x1, x2, x3]).T\n",
    "data_bin = _binary_all(X_true)\n",
    "\n",
    "dist_test_obj = CIT(data=data_bin, method=test, phase_two=False)\n",
    "p_value = dist_test_obj(1,2,[0])\n",
    "p_value"
   ]
  },
  {
   "cell_type": "code",
   "execution_count": null,
   "metadata": {},
   "outputs": [
    {
     "name": "stdout",
     "output_type": "stream",
     "text": [
      "Random variable: 0, threshold: 4.962782480910894\n",
      "Random variable: 1, threshold: 7.8841030010414235\n",
      "Random variable: 2, threshold: 4.989001075940564\n",
      "Variance: [2.85376592]\n",
      "P-value: [0.22733319]\n"
     ]
    },
    {
     "data": {
      "text/plain": [
       "array([0.22733319])"
      ]
     },
     "execution_count": 10,
     "metadata": {},
     "output_type": "execute_result"
    }
   ],
   "source": [
    "\"\"\"\n",
    "Here is an example of how to use DCT-GMM with two step\n",
    "\"\"\"\n",
    "\n",
    "test = 'dct_gmm'\n",
    "\n",
    "samples = 1000\n",
    "x1 = np.random.normal(5,1,samples)\n",
    "x2 = np.random.normal(-2,1,samples) + 2*x1\n",
    "x3 = x1 + np.random.normal(0,1, samples)\n",
    "\n",
    "X_true = np.array([x1, x2, x3]).T\n",
    "data_bin = _binary_all(X_true)\n",
    "\n",
    "dist_test_obj = CIT(data=data_bin, method=test, phase_two=True)\n",
    "p_value = dist_test_obj(1,2,[0])\n",
    "p_value"
   ]
  },
  {
   "cell_type": "code",
   "execution_count": null,
   "metadata": {},
   "outputs": [],
   "source": []
  }
 ],
 "metadata": {
  "kernelspec": {
   "display_name": "causal_learn_pycharm",
   "language": "python",
   "name": "python3"
  },
  "language_info": {
   "codemirror_mode": {
    "name": "ipython",
    "version": 3
   },
   "file_extension": ".py",
   "mimetype": "text/x-python",
   "name": "python",
   "nbconvert_exporter": "python",
   "pygments_lexer": "ipython3",
   "version": "3.10.5"
  }
 },
 "nbformat": 4,
 "nbformat_minor": 2
}
