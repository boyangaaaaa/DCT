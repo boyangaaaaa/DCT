{
 "cells": [
  {
   "cell_type": "code",
   "execution_count": 1,
   "metadata": {},
   "outputs": [
    {
     "name": "stdout",
     "output_type": "stream",
     "text": [
      "the term of beta_j is [[0.        ]\n",
      " [0.91737737]]\n",
      "[-0.         -1.6068291   0.          1.05253274  1.75154648 -1.147328  ]\n",
      "[[ 1.89014443e-11  4.97752610e-07  4.97752610e-07 -1.40591860e-11\n",
      "   3.70840613e-07  9.53642855e-08]\n",
      " [ 4.97752610e-07  2.50417331e+00  2.50417331e+00  1.98790616e-06\n",
      "   7.53977748e-01  1.93676577e-02]\n",
      " [ 4.97752610e-07  2.50417331e+00  2.50417331e+00  1.98790616e-06\n",
      "   7.53977748e-01  1.93676577e-02]\n",
      " [-1.40591860e-11  1.98790616e-06  1.98790616e-06  1.29667929e-10\n",
      "   2.33647973e-06  1.12013165e-06]\n",
      " [ 3.70840613e-07  7.53977748e-01  7.53977748e-01  2.33647973e-06\n",
      "   1.49047460e+00  6.72545905e-02]\n",
      " [ 9.53642855e-08  1.93676577e-02  1.93676577e-02  1.12013165e-06\n",
      "   6.72545905e-02  4.04334849e-01]]\n",
      "Variance: 7.1274813981977445\n",
      "Z-score: [0.12032412]\n",
      "P-value: [0.90422639]\n"
     ]
    },
    {
     "data": {
      "text/plain": [
       "array([0.90422639])"
      ]
     },
     "execution_count": 1,
     "metadata": {},
     "output_type": "execute_result"
    }
   ],
   "source": [
    "import numpy as np\n",
    "from causallearn.utils.cit import CIT\n",
    "\n",
    "def _binary(C, X_true):\n",
    "    \n",
    "    X = X_true.copy()\n",
    "    i = 0\n",
    "    for c in C:\n",
    "        x_tmp = X[:,i]\n",
    "        x_tmp[x_tmp > c] = 1\n",
    "        x_tmp[x_tmp <= c] = 0\n",
    "        X[:,i] = x_tmp\n",
    "        i = i+1\n",
    "    return X\n",
    "\n",
    "x1 = np.random.normal(0,1,1000)\n",
    "x2 = np.random.normal(0,1,1000) + 2 * x1 \n",
    "x3 = np.random.normal(0,1,1000) + x1\n",
    "x4 = np.random.normal(0,1,1000) + x2 + 2*x3 \n",
    "data = np.array([x1,x2,x3,x4]).T\n",
    "C = [np.random.uniform(-1,1) for i in range(4)]\n",
    "\n",
    "X_obs = _binary(C, data)\n",
    "test = 'dis_test'\n",
    "cit_test = CIT(X_obs, method=test)\n",
    "cit_test(1,2,[0])\n",
    "\n",
    "\n",
    "\n"
   ]
  },
  {
   "cell_type": "code",
   "execution_count": null,
   "metadata": {},
   "outputs": [],
   "source": []
  },
  {
   "cell_type": "code",
   "execution_count": null,
   "metadata": {},
   "outputs": [],
   "source": []
  }
 ],
 "metadata": {
  "kernelspec": {
   "display_name": "discretization",
   "language": "python",
   "name": "python3"
  },
  "language_info": {
   "codemirror_mode": {
    "name": "ipython",
    "version": 3
   },
   "file_extension": ".py",
   "mimetype": "text/x-python",
   "name": "python",
   "nbconvert_exporter": "python",
   "pygments_lexer": "ipython3",
   "version": "3.9.18"
  }
 },
 "nbformat": 4,
 "nbformat_minor": 2
}
